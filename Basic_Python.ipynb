{
  "nbformat": 4,
  "nbformat_minor": 0,
  "metadata": {
    "colab": {
      "provenance": [],
      "authorship_tag": "ABX9TyP/BA5G2w027WhJvuHfz9FD",
      "include_colab_link": true
    },
    "kernelspec": {
      "name": "python3",
      "display_name": "Python 3"
    },
    "language_info": {
      "name": "python"
    }
  },
  "cells": [
    {
      "cell_type": "markdown",
      "metadata": {
        "id": "view-in-github",
        "colab_type": "text"
      },
      "source": [
        "<a href=\"https://colab.research.google.com/github/MinMint01/Basic-Python-for-ML/blob/main/Basic_Python.ipynb\" target=\"_parent\"><img src=\"https://colab.research.google.com/assets/colab-badge.svg\" alt=\"Open In Colab\"/></a>"
      ]
    },
    {
      "cell_type": "markdown",
      "source": [
        "# Introduction to Python `Python`\n",
        "**# First program**"
      ],
      "metadata": {
        "id": "Lp9nkihK7JnD"
      }
    },
    {
      "cell_type": "code",
      "source": [
        "print(\"Hello\")"
      ],
      "metadata": {
        "colab": {
          "base_uri": "https://localhost:8080/"
        },
        "id": "Ldcci8Qn736k",
        "outputId": "d2b47ec6-4660-4372-9b6a-2c48f741a0d1"
      },
      "execution_count": 1,
      "outputs": [
        {
          "output_type": "stream",
          "name": "stdout",
          "text": [
            "Hello\n"
          ]
        }
      ]
    },
    {
      "cell_type": "markdown",
      "source": [
        ">Program to assign an integer a value:"
      ],
      "metadata": {
        "id": "ElaqsFaQ9aiA"
      }
    },
    {
      "cell_type": "code",
      "source": [
        "a=10\n",
        "print(\"a =\",10)"
      ],
      "metadata": {
        "colab": {
          "base_uri": "https://localhost:8080/"
        },
        "id": "1D8FYIG08p2i",
        "outputId": "25603725-45df-4c50-cf5f-b4b970817b6b"
      },
      "execution_count": 4,
      "outputs": [
        {
          "output_type": "stream",
          "name": "stdout",
          "text": [
            "a = 10\n"
          ]
        }
      ]
    },
    {
      "cell_type": "markdown",
      "source": [
        ">Program to find the sum of two numbers:"
      ],
      "metadata": {
        "id": "bnj1wtZt9tQL"
      }
    },
    {
      "cell_type": "code",
      "source": [
        "a,b=10,7\n",
        "print(\"Sum = \",a+b)"
      ],
      "metadata": {
        "colab": {
          "base_uri": "https://localhost:8080/"
        },
        "id": "CbuMROre9k1Q",
        "outputId": "7d219b48-f2b4-4c3f-9294-65aee9c85d57"
      },
      "execution_count": 6,
      "outputs": [
        {
          "output_type": "stream",
          "name": "stdout",
          "text": [
            "Sum =  17\n"
          ]
        }
      ]
    },
    {
      "cell_type": "markdown",
      "source": [
        ">Read two numbers from the user and find their sum:"
      ],
      "metadata": {
        "id": "QWlrpyYJ-UrC"
      }
    },
    {
      "cell_type": "code",
      "source": [
        "a=int(input(\"ENTER THE FIRST NUMBER: \")) #value of a\n",
        "b=int(input(\"ENTER THE SECOND NUMBER: \")) #value of b\n",
        "print(\"SUM = \",a+b)"
      ],
      "metadata": {
        "colab": {
          "base_uri": "https://localhost:8080/"
        },
        "id": "EL6LI5qf-cJL",
        "outputId": "ce62a5eb-3beb-4af0-a0b7-656e50013587"
      },
      "execution_count": 8,
      "outputs": [
        {
          "output_type": "stream",
          "name": "stdout",
          "text": [
            "ENTER THE FIRST NUMBER: 3\n",
            "ENTER THE SECOND NUMBER: 4\n",
            "SUM =  7\n"
          ]
        }
      ]
    }
  ]
}