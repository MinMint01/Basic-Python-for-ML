{
  "cells": [
    {
      "cell_type": "markdown",
      "metadata": {
        "id": "view-in-github",
        "colab_type": "text"
      },
      "source": [
        "<a href=\"https://colab.research.google.com/github/MinMint01/Basic-Python-for-ML/blob/main/Numpy_Library_%26_Operations.ipynb\" target=\"_parent\"><img src=\"https://colab.research.google.com/assets/colab-badge.svg\" alt=\"Open In Colab\"/></a>"
      ]
    },
    {
      "cell_type": "markdown",
      "metadata": {
        "id": "yqwQV01-wzS5"
      },
      "source": [
        "## `Numpy`- Numerical Python\n",
        "\n",
        "> The python library for basic array operations.\n",
        "\n",
        "### Basics\n",
        "\n",
        "This section will present several examples of using NumPy array manipulation to access data and subarrays, and to split, reshape, and join the arrays.\n",
        "While the types of operations shown here may seem a bit dry and pedantic, they comprise the building blocks of many other examples used throughout the book.\n",
        "Get to know them well!\n",
        "\n",
        "We'll cover a few categories of basic array manipulations here:\n",
        "\n",
        "- *Attributes of arrays*: Determining the size, shape, memory consumption, and data types of arrays\n",
        "- *Indexing of arrays*: Getting and setting the value of individual array elements\n",
        "- *Slicing of arrays*: Getting and setting smaller subarrays within a larger array\n",
        "- *Reshaping of arrays*: Changing the shape of a given array\n",
        "- *Joining and splitting of arrays*: Combining multiple arrays into one, and splitting one array into many"
      ]
    },
    {
      "cell_type": "markdown",
      "metadata": {
        "id": "pLuCaty1x2vc"
      },
      "source": [
        "## `NumPy` Array Attributes\n",
        "\n",
        "First let's discuss some useful array attributes.\n",
        "\n",
        "We'll start by defining three random arrays, a one-dimensional, two-dimensional, and three-dimensional array.\n",
        "\n",
        "We'll use `NumPy`'s random number generator, which we will *seed* with a set value in order to ensure that the same random arrays are generated each time this code is run:"
      ]
    },
    {
      "cell_type": "markdown",
      "metadata": {
        "id": "HSt0S2X6zf2X"
      },
      "source": [
        "### Loading `numpy` to a python programme\n",
        "\n",
        ">Syntax \n",
        "\n",
        "```\n",
        "import numpy as <<\"name of instance\">>\n",
        "\n",
        "```\n",
        "\n",
        "eg: ``` import numpy as np```"
      ]
    },
    {
      "cell_type": "code",
      "execution_count": null,
      "metadata": {
        "id": "UwWDzgFq0MGY"
      },
      "outputs": [],
      "source": [
        "# Loading the library\n",
        "import numpy as np"
      ]
    },
    {
      "cell_type": "markdown",
      "source": [
        "# Installing a library in colab\n",
        "\n",
        "```\n",
        "!pip install <lib_name>\n",
        "```"
      ],
      "metadata": {
        "id": "nYbXgJrebxjE"
      }
    },
    {
      "cell_type": "code",
      "source": [
        "!pip install numpy"
      ],
      "metadata": {
        "colab": {
          "base_uri": "https://localhost:8080/"
        },
        "id": "jvc-n9JlcEmB",
        "outputId": "f7b543ee-82cd-4e48-9586-413f89b7ac26"
      },
      "execution_count": null,
      "outputs": [
        {
          "output_type": "stream",
          "name": "stdout",
          "text": [
            "Looking in indexes: https://pypi.org/simple, https://us-python.pkg.dev/colab-wheels/public/simple/\n",
            "Requirement already satisfied: numpy in /usr/local/lib/python3.10/dist-packages (1.22.4)\n"
          ]
        }
      ]
    },
    {
      "cell_type": "markdown",
      "metadata": {
        "id": "TSqZWeNh09k_"
      },
      "source": [
        "## Define different types of `numpy` arrays"
      ]
    },
    {
      "cell_type": "code",
      "execution_count": null,
      "metadata": {
        "id": "vdOlq08z1DhC"
      },
      "outputs": [],
      "source": [
        "np.random.seed(0)  # seed for reproducibility  # starting point for generating random nums  # we lose randomness  # Used to check validity of samples\n",
        "                        # Here '10' means take random nums under 10\n",
        "x1 = np.random.randint(10, size=6)  # One-dimensional array\n",
        "x2 = np.random.randint(10, size=(3, 4))  # Two-dimensional array\n",
        "x3 = np.random.randint(10, size=(3, 4, 5))  # Three-dimensional array"
      ]
    },
    {
      "cell_type": "code",
      "execution_count": null,
      "metadata": {
        "colab": {
          "base_uri": "https://localhost:8080/"
        },
        "id": "siq1z0-s4JAv",
        "outputId": "0200533f-6e7a-418b-fe7c-22791910e1ca"
      },
      "outputs": [
        {
          "output_type": "stream",
          "name": "stdout",
          "text": [
            "[5 0 3 3 7 9]\n"
          ]
        }
      ],
      "source": [
        "print(x1)"
      ]
    },
    {
      "cell_type": "code",
      "execution_count": null,
      "metadata": {
        "colab": {
          "base_uri": "https://localhost:8080/"
        },
        "id": "KNOhd8Ln5ZSn",
        "outputId": "a0d8e420-3622-44ae-f21c-a35b1c50ed93"
      },
      "outputs": [
        {
          "output_type": "stream",
          "name": "stdout",
          "text": [
            "[[3 5 2 4]\n",
            " [7 6 8 8]\n",
            " [1 6 7 7]]\n"
          ]
        }
      ],
      "source": [
        "print(x2)"
      ]
    },
    {
      "cell_type": "code",
      "execution_count": null,
      "metadata": {
        "colab": {
          "base_uri": "https://localhost:8080/"
        },
        "id": "PAcwUovk5jmT",
        "outputId": "c381b132-5adc-4533-fd20-54d74109c6c0"
      },
      "outputs": [
        {
          "output_type": "stream",
          "name": "stdout",
          "text": [
            "[[[8 1 5 9 8]\n",
            "  [9 4 3 0 3]\n",
            "  [5 0 2 3 8]\n",
            "  [1 3 3 3 7]]\n",
            "\n",
            " [[0 1 9 9 0]\n",
            "  [4 7 3 2 7]\n",
            "  [2 0 0 4 5]\n",
            "  [5 6 8 4 1]]\n",
            "\n",
            " [[4 9 8 1 1]\n",
            "  [7 9 9 3 6]\n",
            "  [7 2 0 3 5]\n",
            "  [9 4 4 6 4]]]\n"
          ]
        }
      ],
      "source": [
        "print(x3)"
      ]
    },
    {
      "cell_type": "markdown",
      "source": [
        ">Panel of matrices in Pandas -> Tensor in maths"
      ],
      "metadata": {
        "id": "MUlxvmP-dopM"
      }
    },
    {
      "cell_type": "markdown",
      "metadata": {
        "id": "LTo1EKoS6onQ"
      },
      "source": [
        "## Attributes of arrays\n",
        "\n",
        "Each array has attributes ``ndim`` (the number of dimensions), ``shape`` (the size of each dimension), and ``size`` (the total size of the array):"
      ]
    },
    {
      "cell_type": "code",
      "execution_count": null,
      "metadata": {
        "colab": {
          "base_uri": "https://localhost:8080/"
        },
        "id": "-OX61lTg68Ay",
        "outputId": "1dacda25-a8fe-4085-8442-9ae0c333cf37"
      },
      "outputs": [
        {
          "output_type": "stream",
          "name": "stdout",
          "text": [
            "x1 ndim:  1\n",
            "x1 shape: (6,)\n",
            "x1 size:  6\n"
          ]
        }
      ],
      "source": [
        "print(\"x1 ndim: \", x1.ndim)\n",
        "print(\"x1 shape:\", x1.shape)   # (x,)->Row Vector | (,x)->column vector\n",
        "print(\"x1 size: \", x1.size)"
      ]
    },
    {
      "cell_type": "code",
      "execution_count": null,
      "metadata": {
        "colab": {
          "base_uri": "https://localhost:8080/"
        },
        "outputId": "ba78d83a-df2d-462e-8dff-1aeb2013d5bd",
        "id": "OI5762jBfQok"
      },
      "outputs": [
        {
          "output_type": "stream",
          "name": "stdout",
          "text": [
            "x2 ndim:  2\n",
            "x2 shape: (3, 4)\n",
            "x2 size:  12\n"
          ]
        }
      ],
      "source": [
        "print(\"x2 ndim: \", x2.ndim)\n",
        "print(\"x2 shape:\", x2.shape)\n",
        "print(\"x2 size: \", x2.size)"
      ]
    },
    {
      "cell_type": "code",
      "execution_count": null,
      "metadata": {
        "colab": {
          "base_uri": "https://localhost:8080/"
        },
        "outputId": "6fc9fadf-ef64-475e-a4e8-b8636c6d37b3",
        "id": "_76TC_YQfQ7E"
      },
      "outputs": [
        {
          "output_type": "stream",
          "name": "stdout",
          "text": [
            "x3 ndim:  3\n",
            "x3 shape: (3, 4, 5)\n",
            "x3 size:  60\n"
          ]
        }
      ],
      "source": [
        "print(\"x3 ndim: \", x3.ndim)\n",
        "print(\"x3 shape:\", x3.shape)\n",
        "print(\"x3 size: \", x3.size)"
      ]
    },
    {
      "cell_type": "markdown",
      "metadata": {
        "id": "Lo6325_u7U01"
      },
      "source": [
        "Another useful attribute is the ``dtype``, the data type of the array"
      ]
    },
    {
      "cell_type": "code",
      "execution_count": null,
      "metadata": {
        "colab": {
          "base_uri": "https://localhost:8080/"
        },
        "id": "-Wre3ix_7c0I",
        "outputId": "d625b1db-2ed1-4df9-96d5-90cbd9ba3ffd"
      },
      "outputs": [
        {
          "output_type": "stream",
          "name": "stdout",
          "text": [
            "dtype: int64\n"
          ]
        }
      ],
      "source": [
        "print(\"dtype:\", x3.dtype)"
      ]
    },
    {
      "cell_type": "markdown",
      "metadata": {
        "id": "GOBBwyp97xGL"
      },
      "source": [
        "Other attributes include ``itemsize``, which lists the size (in bytes) of each array element, and ``nbytes``, which lists the total size (in bytes) of the array:"
      ]
    },
    {
      "cell_type": "code",
      "execution_count": null,
      "metadata": {
        "colab": {
          "base_uri": "https://localhost:8080/"
        },
        "id": "L6x0NRff76Ah",
        "outputId": "624112c7-8eb4-4101-9eb3-d9a8bb1c0332"
      },
      "outputs": [
        {
          "output_type": "stream",
          "name": "stdout",
          "text": [
            "itemsize: 8 bytes\n",
            "nbytes: 480 bytes\n"
          ]
        }
      ],
      "source": [
        "print(\"itemsize:\", x3.itemsize, \"bytes\")\n",
        "print(\"nbytes:\", x3.nbytes, \"bytes\")"
      ]
    },
    {
      "cell_type": "markdown",
      "metadata": {
        "id": "QGV3yGPu8Phf"
      },
      "source": [
        "## Array Indexing: Accessing Single Elements\n",
        "If you are familiar with Python's standard list indexing, indexing in `NumPy` will feel quite familiar.\n",
        "In a one-dimensional array, the $i^{th}$ value (counting from zero) can be accessed by specifying the desired index in square brackets, just as with Python lists:"
      ]
    },
    {
      "cell_type": "code",
      "source": [
        "x1=np.array([8, 5, 4, 7,4,1]) # type cast list to np array"
      ],
      "metadata": {
        "id": "06QZvBehEAc6"
      },
      "execution_count": null,
      "outputs": []
    },
    {
      "cell_type": "code",
      "execution_count": null,
      "metadata": {
        "colab": {
          "base_uri": "https://localhost:8080/"
        },
        "id": "AajJ84PZ88Uj",
        "outputId": "4664e238-8246-46c4-c86f-14f5ed03f15b"
      },
      "outputs": [
        {
          "output_type": "stream",
          "name": "stdout",
          "text": [
            "[8 5 4 7 4 1]\n"
          ]
        }
      ],
      "source": [
        "(x1) # shows the contents of the array x1\n",
        "print(x1)"
      ]
    },
    {
      "cell_type": "code",
      "execution_count": null,
      "metadata": {
        "colab": {
          "base_uri": "https://localhost:8080/"
        },
        "id": "fEO4mblY9UCw",
        "outputId": "7abc94fd-d2a2-4a7d-c698-30bcd4be2180"
      },
      "outputs": [
        {
          "output_type": "execute_result",
          "data": {
            "text/plain": [
              "7"
            ]
          },
          "metadata": {},
          "execution_count": 34
        }
      ],
      "source": [
        "x1[3] # access the 4th element in the array x1"
      ]
    },
    {
      "cell_type": "markdown",
      "metadata": {
        "id": "GluqTQ_-98ou"
      },
      "source": [
        ">Note:\n",
        "\n",
        "To index from the end of the array, you can use negative indices:"
      ]
    },
    {
      "cell_type": "code",
      "execution_count": null,
      "metadata": {
        "colab": {
          "base_uri": "https://localhost:8080/"
        },
        "id": "V3NGu8Zd-AF7",
        "outputId": "e78c2408-7069-471b-c276-739ea608b787"
      },
      "outputs": [
        {
          "output_type": "execute_result",
          "data": {
            "text/plain": [
              "array([8, 5, 4, 7, 4, 1])"
            ]
          },
          "metadata": {},
          "execution_count": 42
        }
      ],
      "source": [
        "x1"
      ]
    },
    {
      "cell_type": "code",
      "execution_count": null,
      "metadata": {
        "id": "32GTQXNb-DTZ",
        "colab": {
          "base_uri": "https://localhost:8080/"
        },
        "outputId": "702fe840-160c-484c-aafe-62920ef35a75"
      },
      "outputs": [
        {
          "output_type": "execute_result",
          "data": {
            "text/plain": [
              "1"
            ]
          },
          "metadata": {},
          "execution_count": 43
        }
      ],
      "source": [
        "x1[-1] ## access the first element from last"
      ]
    },
    {
      "cell_type": "code",
      "execution_count": null,
      "metadata": {
        "id": "o6QKa5KC-s44",
        "colab": {
          "base_uri": "https://localhost:8080/"
        },
        "outputId": "18e29be3-300d-42cf-81fd-a0e1aa1d64f1"
      },
      "outputs": [
        {
          "output_type": "execute_result",
          "data": {
            "text/plain": [
              "4"
            ]
          },
          "metadata": {},
          "execution_count": 44
        }
      ],
      "source": [
        "x1[-2] ## access the second element from the last"
      ]
    },
    {
      "cell_type": "markdown",
      "metadata": {
        "id": "hoe_jcAg_Ftc"
      },
      "source": [
        ">In a multi-dimensional array, items can be accessed using a comma-separated tuple of indices:"
      ]
    },
    {
      "cell_type": "code",
      "source": [
        "x2=np.array([[3, 3, 9, 2],\n",
        "       [5, 2, 3, 5],\n",
        "       [7, 2, 7, 1]])"
      ],
      "metadata": {
        "id": "SmRXtpshFZpT"
      },
      "execution_count": null,
      "outputs": []
    },
    {
      "cell_type": "code",
      "execution_count": null,
      "metadata": {
        "colab": {
          "base_uri": "https://localhost:8080/"
        },
        "id": "9mEZH2p3_EzW",
        "outputId": "b343ef35-cdbe-4459-d0af-7cc0f9041467"
      },
      "outputs": [
        {
          "output_type": "stream",
          "name": "stdout",
          "text": [
            "[[3 3 9 2]\n",
            " [5 2 3 5]\n",
            " [7 2 7 1]]\n"
          ]
        }
      ],
      "source": [
        "print(x2)# list the 2-D array"
      ]
    },
    {
      "cell_type": "code",
      "execution_count": null,
      "metadata": {
        "colab": {
          "base_uri": "https://localhost:8080/"
        },
        "id": "nOVUhEoyAEj0",
        "outputId": "d4c611df-4508-42e1-d94e-7d85a69e90d2"
      },
      "outputs": [
        {
          "output_type": "execute_result",
          "data": {
            "text/plain": [
              "9"
            ]
          },
          "metadata": {},
          "execution_count": 46
        }
      ],
      "source": [
        "x2[0, 2] ## access the element in first row and first column"
      ]
    },
    {
      "cell_type": "code",
      "execution_count": null,
      "metadata": {
        "colab": {
          "base_uri": "https://localhost:8080/"
        },
        "id": "Wx5buubGATxJ",
        "outputId": "66cb3dfb-e05d-4322-c3fc-33de41cabffd"
      },
      "outputs": [
        {
          "output_type": "execute_result",
          "data": {
            "text/plain": [
              "1"
            ]
          },
          "metadata": {},
          "execution_count": 47
        }
      ],
      "source": [
        "x2[2, -1] ## access the element in the 3rd row and last column"
      ]
    },
    {
      "cell_type": "markdown",
      "metadata": {
        "id": "cPl1wwx5A799"
      },
      "source": [
        "Values can also be modified using any of the above index notation:"
      ]
    },
    {
      "cell_type": "code",
      "execution_count": null,
      "metadata": {
        "id": "YeeyQeYYBAZ0"
      },
      "outputs": [],
      "source": [
        "x2[0, 0]=20 ## replace the 3rd row last column element of x2 by 20"
      ]
    },
    {
      "cell_type": "code",
      "execution_count": null,
      "metadata": {
        "colab": {
          "base_uri": "https://localhost:8080/"
        },
        "id": "14k0nZopBIIe",
        "outputId": "83bfd314-d9d0-4223-8f9b-102b88310ba2"
      },
      "outputs": [
        {
          "output_type": "execute_result",
          "data": {
            "text/plain": [
              "array([[20,  3,  9,  2],\n",
              "       [ 5,  2,  3,  5],\n",
              "       [ 7,  2,  7,  1]])"
            ]
          },
          "metadata": {},
          "execution_count": 49
        }
      ],
      "source": [
        "x2 ## display updated x2"
      ]
    },
    {
      "cell_type": "markdown",
      "metadata": {
        "id": "20wiuamXCBMW"
      },
      "source": [
        "> Keep in mind that, unlike Python lists, NumPy arrays have a `fixed type`.\n",
        "This means, for example, that if you attempt to insert a floating-point value to an integer array, the value will be silently truncated. Don't be caught unaware by this behavior!"
      ]
    },
    {
      "cell_type": "code",
      "execution_count": null,
      "metadata": {
        "colab": {
          "base_uri": "https://localhost:8080/"
        },
        "id": "JTVbOXVLCMdv",
        "outputId": "7ee6b300-62a7-4d90-bc00-d1f2eb47c038"
      },
      "outputs": [
        {
          "output_type": "execute_result",
          "data": {
            "text/plain": [
              "array([8, 5, 4, 7, 4, 1])"
            ]
          },
          "metadata": {},
          "execution_count": 50
        }
      ],
      "source": [
        "## to show contents of the array x1\n",
        "x1"
      ]
    },
    {
      "cell_type": "code",
      "source": [
        "type(x1)  #datatype of obj 'x1'"
      ],
      "metadata": {
        "colab": {
          "base_uri": "https://localhost:8080/"
        },
        "id": "2w5c0RtAIfLD",
        "outputId": "ec0aa41f-ecc4-41a2-86b8-382bcb29c6fd"
      },
      "execution_count": null,
      "outputs": [
        {
          "output_type": "execute_result",
          "data": {
            "text/plain": [
              "numpy.ndarray"
            ]
          },
          "metadata": {},
          "execution_count": 51
        }
      ]
    },
    {
      "cell_type": "code",
      "source": [
        "x1.dtype  #datatype stored in the obj 'x1'"
      ],
      "metadata": {
        "colab": {
          "base_uri": "https://localhost:8080/"
        },
        "id": "FzErFwIhnZry",
        "outputId": "ff0fc578-b8e9-463b-c2bd-acdc55b2edf7"
      },
      "execution_count": null,
      "outputs": [
        {
          "output_type": "execute_result",
          "data": {
            "text/plain": [
              "dtype('int64')"
            ]
          },
          "metadata": {},
          "execution_count": 52
        }
      ]
    },
    {
      "cell_type": "code",
      "execution_count": null,
      "metadata": {
        "colab": {
          "base_uri": "https://localhost:8080/"
        },
        "id": "qf-cPo9vCLF3",
        "outputId": "8165bcfe-b212-4709-cda2-9cc26d5710b8"
      },
      "outputs": [
        {
          "output_type": "execute_result",
          "data": {
            "text/plain": [
              "array([3, 5, 4, 7, 4, 1])"
            ]
          },
          "metadata": {},
          "execution_count": 53
        }
      ],
      "source": [
        "## repalce first value of x1 with 3.14195\n",
        "x1[0] = 3.14159  # this will be truncated!\n",
        "x1"
      ]
    },
    {
      "cell_type": "markdown",
      "metadata": {
        "id": "r4QuhUKMEWxx"
      },
      "source": [
        "## Array Slicing: Accessing Subarrays\n",
        "\n",
        "Just as we can use square brackets to access individual array elements, we can also use them to access subarrays with the *slice* notation, marked by the colon (``:``) character.\n",
        "The NumPy slicing syntax follows that of the standard Python list; to access a slice of an array ``x``, use this:\n",
        "``` python\n",
        "x[start:stop:step]\n",
        "```\n",
        "If any of these are unspecified, they default to the values ``start=0``, ``stop=``*``size of dimension``*, ``step=1``.\n",
        "We'll take a look at accessing sub-arrays in one dimension and in multiple dimensions."
      ]
    },
    {
      "cell_type": "markdown",
      "metadata": {
        "id": "HBqgBz4pEzYg"
      },
      "source": [
        "### One-dimensional subarrays"
      ]
    },
    {
      "cell_type": "code",
      "execution_count": null,
      "metadata": {
        "colab": {
          "base_uri": "https://localhost:8080/"
        },
        "id": "gtC10YeSEx_g",
        "outputId": "b2a4a921-f5eb-4d31-ed66-79f6a06c09c2"
      },
      "outputs": [
        {
          "output_type": "execute_result",
          "data": {
            "text/plain": [
              "array([0, 1, 2, 3, 4, 5, 6, 7, 8, 9])"
            ]
          },
          "metadata": {},
          "execution_count": 54
        }
      ],
      "source": [
        "x = np.arange(0,10) # gen array in the range 0-10, excluding 10\n",
        "x"
      ]
    },
    {
      "cell_type": "code",
      "execution_count": null,
      "metadata": {
        "colab": {
          "base_uri": "https://localhost:8080/"
        },
        "id": "Pj4eRXObFOvk",
        "outputId": "52cd4bea-ac1d-4831-d536-0e14e9342112"
      },
      "outputs": [
        {
          "output_type": "execute_result",
          "data": {
            "text/plain": [
              "array([0, 1, 2, 3, 4])"
            ]
          },
          "metadata": {},
          "execution_count": 61
        }
      ],
      "source": [
        "x[0:5]  # first five elements   # goes til n-1 = 6-1 = 5th index"
      ]
    },
    {
      "cell_type": "code",
      "execution_count": null,
      "metadata": {
        "colab": {
          "base_uri": "https://localhost:8080/"
        },
        "id": "qVEy0KbGEVfX",
        "outputId": "d0aee7f2-d946-4bd7-84ee-8c9b0b3ee6a0"
      },
      "outputs": [
        {
          "output_type": "execute_result",
          "data": {
            "text/plain": [
              "array([5, 6, 7, 8, 9])"
            ]
          },
          "metadata": {},
          "execution_count": 57
        }
      ],
      "source": [
        "x[5:]  # elements after index 5"
      ]
    },
    {
      "cell_type": "code",
      "execution_count": null,
      "metadata": {
        "colab": {
          "base_uri": "https://localhost:8080/"
        },
        "id": "XfbhkotXF3k8",
        "outputId": "126d6504-36d4-41e9-beb1-bc3b46e1f35f"
      },
      "outputs": [
        {
          "output_type": "execute_result",
          "data": {
            "text/plain": [
              "array([4, 5, 6])"
            ]
          },
          "metadata": {},
          "execution_count": 58
        }
      ],
      "source": [
        "x[4:7]  # middle sub-array"
      ]
    },
    {
      "cell_type": "code",
      "execution_count": null,
      "metadata": {
        "id": "_sOQ2HU7GF3q",
        "colab": {
          "base_uri": "https://localhost:8080/"
        },
        "outputId": "94ccbe49-759a-4217-ab91-22058984f45d"
      },
      "outputs": [
        {
          "output_type": "execute_result",
          "data": {
            "text/plain": [
              "array([0, 1, 2, 3, 4, 5, 6, 7, 8, 9])"
            ]
          },
          "metadata": {},
          "execution_count": 59
        }
      ],
      "source": [
        "x"
      ]
    },
    {
      "cell_type": "code",
      "execution_count": null,
      "metadata": {
        "colab": {
          "base_uri": "https://localhost:8080/"
        },
        "id": "8lUg3rBUGEXU",
        "outputId": "9cdd6b18-6413-4455-a39d-abd3a7434d18"
      },
      "outputs": [
        {
          "output_type": "execute_result",
          "data": {
            "text/plain": [
              "array([0, 2, 4, 6, 8])"
            ]
          },
          "metadata": {},
          "execution_count": 63
        }
      ],
      "source": [
        "x[::2]  # every other element with step 2 (alternate elements)"
      ]
    },
    {
      "cell_type": "markdown",
      "source": [
        "## Reading a 2-D array or matrix in `numpy`\n",
        "\n",
        "```{python}\n",
        "name_of_array=np.array([[row1],[row2],[row3]])\n",
        "```"
      ],
      "metadata": {
        "id": "vGTRRSDP3NN2"
      }
    },
    {
      "cell_type": "code",
      "source": [
        "marks=np.array([[1, 2 ,3],[2 ,3 ,4],[5,6,7]])"
      ],
      "metadata": {
        "id": "bH1yH_SI3kZi"
      },
      "execution_count": null,
      "outputs": []
    },
    {
      "cell_type": "code",
      "source": [
        "print(marks)"
      ],
      "metadata": {
        "colab": {
          "base_uri": "https://localhost:8080/"
        },
        "id": "YwMfJ_W34UBw",
        "outputId": "fd438254-9def-4cb0-aefe-1f0472531b23"
      },
      "execution_count": null,
      "outputs": [
        {
          "output_type": "stream",
          "name": "stdout",
          "text": [
            "[[1 2 3]\n",
            " [2 3 4]\n",
            " [5 6 7]]\n"
          ]
        }
      ]
    },
    {
      "cell_type": "code",
      "source": [
        "C1=(marks[:,0]) # assign all elements in the first column to a new variable C1"
      ],
      "metadata": {
        "id": "qRL9pSY86CKo"
      },
      "execution_count": null,
      "outputs": []
    },
    {
      "cell_type": "code",
      "source": [
        "print(C1) # display content of C1 which is a sub array of marks"
      ],
      "metadata": {
        "colab": {
          "base_uri": "https://localhost:8080/"
        },
        "id": "nXtwzgXa7YMR",
        "outputId": "98d68fd9-2b2a-4bf4-cd5b-766706ea900b"
      },
      "execution_count": null,
      "outputs": [
        {
          "output_type": "stream",
          "name": "stdout",
          "text": [
            "[1 2 5]\n"
          ]
        }
      ]
    },
    {
      "cell_type": "code",
      "source": [
        "type(C1)"
      ],
      "metadata": {
        "colab": {
          "base_uri": "https://localhost:8080/"
        },
        "id": "ODGf1evHpYbU",
        "outputId": "3d64f04f-07aa-4b54-8c86-980883b85b5f"
      },
      "execution_count": null,
      "outputs": [
        {
          "output_type": "execute_result",
          "data": {
            "text/plain": [
              "numpy.ndarray"
            ]
          },
          "metadata": {},
          "execution_count": 68
        }
      ]
    },
    {
      "cell_type": "code",
      "source": [
        "marks[0,:]"
      ],
      "metadata": {
        "colab": {
          "base_uri": "https://localhost:8080/"
        },
        "id": "T6jzk0P7LhX5",
        "outputId": "3bb58843-3a58-4d6f-d6f2-429a8d91df57"
      },
      "execution_count": null,
      "outputs": [
        {
          "output_type": "execute_result",
          "data": {
            "text/plain": [
              "array([1, 2, 3])"
            ]
          },
          "metadata": {},
          "execution_count": 69
        }
      ]
    },
    {
      "cell_type": "code",
      "source": [
        "print(C1)"
      ],
      "metadata": {
        "colab": {
          "base_uri": "https://localhost:8080/"
        },
        "id": "SxwsSAc8ppH3",
        "outputId": "b73a0ce8-e81d-4dc6-d07d-1d23837213fe"
      },
      "execution_count": null,
      "outputs": [
        {
          "output_type": "stream",
          "name": "stdout",
          "text": [
            "[1 2 5]\n"
          ]
        }
      ]
    },
    {
      "cell_type": "code",
      "source": [
        "C2=C1.reshape(3,1)# reshape the list C1 into a 3 X 1 matrix"
      ],
      "metadata": {
        "id": "701_PeVn6jAM"
      },
      "execution_count": null,
      "outputs": []
    },
    {
      "cell_type": "code",
      "source": [
        "(C2)  #F2 is the Transpose of matrix C1 but reshaping does not always gives the transpose\n",
        "print(C2)"
      ],
      "metadata": {
        "colab": {
          "base_uri": "https://localhost:8080/"
        },
        "id": "UdiesN9A7U3D",
        "outputId": "e4bfe245-83d5-4110-b7f1-bdc79905e07a"
      },
      "execution_count": null,
      "outputs": [
        {
          "output_type": "stream",
          "name": "stdout",
          "text": [
            "[[1]\n",
            " [2]\n",
            " [5]]\n"
          ]
        }
      ]
    },
    {
      "cell_type": "markdown",
      "source": [
        ">**Task 1:** Create a $5\\times 10$ matrix from single digit values randomly. Then flaten the matrix into a column vector."
      ],
      "metadata": {
        "id": "CNXL3BwNqDwW"
      }
    },
    {
      "cell_type": "code",
      "source": [
        "M=np.random.randint(10,size=(5,10))"
      ],
      "metadata": {
        "id": "z4RSGmE4rCKV"
      },
      "execution_count": null,
      "outputs": []
    },
    {
      "cell_type": "code",
      "source": [
        "print(M)"
      ],
      "metadata": {
        "colab": {
          "base_uri": "https://localhost:8080/"
        },
        "id": "-M68kryjrMII",
        "outputId": "b0b0e62b-46c4-40ba-a9f2-3272ffcfa7de"
      },
      "execution_count": null,
      "outputs": [
        {
          "output_type": "stream",
          "name": "stdout",
          "text": [
            "[[4 3 4 4 8 4 3 7 5 5]\n",
            " [0 1 5 9 3 0 5 0 1 2]\n",
            " [4 2 0 3 2 0 7 5 9 0]\n",
            " [2 7 2 9 2 3 3 2 3 4]\n",
            " [1 2 9 1 4 6 8 2 3 0]]\n"
          ]
        }
      ]
    },
    {
      "cell_type": "code",
      "source": [
        "M.reshape(10,5) # not a transpose"
      ],
      "metadata": {
        "colab": {
          "base_uri": "https://localhost:8080/"
        },
        "id": "rwjKNHRYrPUh",
        "outputId": "d5d4d031-6982-4b00-9760-d73957268313"
      },
      "execution_count": null,
      "outputs": [
        {
          "output_type": "execute_result",
          "data": {
            "text/plain": [
              "array([[4, 3, 4, 4, 8],\n",
              "       [4, 3, 7, 5, 5],\n",
              "       [0, 1, 5, 9, 3],\n",
              "       [0, 5, 0, 1, 2],\n",
              "       [4, 2, 0, 3, 2],\n",
              "       [0, 7, 5, 9, 0],\n",
              "       [2, 7, 2, 9, 2],\n",
              "       [3, 3, 2, 3, 4],\n",
              "       [1, 2, 9, 1, 4],\n",
              "       [6, 8, 2, 3, 0]])"
            ]
          },
          "metadata": {},
          "execution_count": 80
        }
      ]
    },
    {
      "cell_type": "code",
      "source": [
        "M.reshape(50,1) #flatten"
      ],
      "metadata": {
        "colab": {
          "base_uri": "https://localhost:8080/"
        },
        "outputId": "aec53d39-077e-4ffb-cb1f-2a5a036f7aad",
        "id": "oI-G7IgxpP-C"
      },
      "execution_count": null,
      "outputs": [
        {
          "output_type": "execute_result",
          "data": {
            "text/plain": [
              "array([[4],\n",
              "       [3],\n",
              "       [4],\n",
              "       [4],\n",
              "       [8],\n",
              "       [4],\n",
              "       [3],\n",
              "       [7],\n",
              "       [5],\n",
              "       [5],\n",
              "       [0],\n",
              "       [1],\n",
              "       [5],\n",
              "       [9],\n",
              "       [3],\n",
              "       [0],\n",
              "       [5],\n",
              "       [0],\n",
              "       [1],\n",
              "       [2],\n",
              "       [4],\n",
              "       [2],\n",
              "       [0],\n",
              "       [3],\n",
              "       [2],\n",
              "       [0],\n",
              "       [7],\n",
              "       [5],\n",
              "       [9],\n",
              "       [0],\n",
              "       [2],\n",
              "       [7],\n",
              "       [2],\n",
              "       [9],\n",
              "       [2],\n",
              "       [3],\n",
              "       [3],\n",
              "       [2],\n",
              "       [3],\n",
              "       [4],\n",
              "       [1],\n",
              "       [2],\n",
              "       [9],\n",
              "       [1],\n",
              "       [4],\n",
              "       [6],\n",
              "       [8],\n",
              "       [2],\n",
              "       [3],\n",
              "       [0]])"
            ]
          },
          "metadata": {},
          "execution_count": 81
        }
      ]
    },
    {
      "cell_type": "code",
      "source": [
        "M.T #we get the transpose here"
      ],
      "metadata": {
        "colab": {
          "base_uri": "https://localhost:8080/"
        },
        "outputId": "7c4c2a82-8206-4c75-8517-84d946644f94",
        "id": "OXXkEV1lphsn"
      },
      "execution_count": null,
      "outputs": [
        {
          "output_type": "execute_result",
          "data": {
            "text/plain": [
              "array([[4, 0, 4, 2, 1],\n",
              "       [3, 1, 2, 7, 2],\n",
              "       [4, 5, 0, 2, 9],\n",
              "       [4, 9, 3, 9, 1],\n",
              "       [8, 3, 2, 2, 4],\n",
              "       [4, 0, 0, 3, 6],\n",
              "       [3, 5, 7, 3, 8],\n",
              "       [7, 0, 5, 2, 2],\n",
              "       [5, 1, 9, 3, 3],\n",
              "       [5, 2, 0, 4, 0]])"
            ]
          },
          "metadata": {},
          "execution_count": 82
        }
      ]
    },
    {
      "cell_type": "markdown",
      "source": [
        "\n",
        "\n",
        "---\n",
        "\n",
        "\n",
        ">**Flattening a matrix:**  Coverting a matrix into a colum vector.\n",
        "\n",
        "---\n",
        "\n"
      ],
      "metadata": {
        "id": "-o5jjbsyNFUd"
      }
    },
    {
      "cell_type": "code",
      "source": [
        "FM=marks.reshape(9,1)"
      ],
      "metadata": {
        "id": "nibQTtjKNSHZ"
      },
      "execution_count": null,
      "outputs": []
    },
    {
      "cell_type": "code",
      "source": [
        "FM"
      ],
      "metadata": {
        "colab": {
          "base_uri": "https://localhost:8080/"
        },
        "id": "ImWfw3CSNaoh",
        "outputId": "ceded742-1f95-4887-d538-1e1f30f6e48d"
      },
      "execution_count": null,
      "outputs": [
        {
          "output_type": "execute_result",
          "data": {
            "text/plain": [
              "array([[1],\n",
              "       [2],\n",
              "       [3],\n",
              "       [2],\n",
              "       [3],\n",
              "       [4],\n",
              "       [5],\n",
              "       [6],\n",
              "       [7]])"
            ]
          },
          "metadata": {},
          "execution_count": 79
        }
      ]
    },
    {
      "cell_type": "markdown",
      "source": [
        "### Multi-dimensional subarrays (slicing)\n",
        "\n",
        "Multi-dimensional slices work in the same way, with multiple slices separated by commas.\n",
        "For example:"
      ],
      "metadata": {
        "id": "5W1IgqVb8oha"
      }
    },
    {
      "cell_type": "code",
      "source": [
        "# creating a two dimensional array\n",
        "x2=np.array([[1,2,3],[3,4,5],[5,6,7]])"
      ],
      "metadata": {
        "id": "QC5iuvQk81M1"
      },
      "execution_count": null,
      "outputs": []
    },
    {
      "cell_type": "code",
      "source": [
        "print(x2)"
      ],
      "metadata": {
        "colab": {
          "base_uri": "https://localhost:8080/"
        },
        "id": "hx98xYRP9bvi",
        "outputId": "c21e0546-2640-4f2a-904d-047c2116c165"
      },
      "execution_count": null,
      "outputs": [
        {
          "output_type": "stream",
          "name": "stdout",
          "text": [
            "[[1 2 3]\n",
            " [3 4 5]\n",
            " [5 6 7]]\n"
          ]
        }
      ]
    },
    {
      "cell_type": "code",
      "source": [
        "# selecting first 3 rows and first two columns from x2\n",
        "print(x2[:3:2,1:2])"
      ],
      "metadata": {
        "colab": {
          "base_uri": "https://localhost:8080/"
        },
        "id": "9F2egHmj-6fz",
        "outputId": "6fc664ca-b44f-4486-ab8d-12a11480d6a0"
      },
      "execution_count": null,
      "outputs": [
        {
          "output_type": "stream",
          "name": "stdout",
          "text": [
            "[[2]\n",
            " [6]]\n"
          ]
        }
      ]
    },
    {
      "cell_type": "code",
      "source": [
        "print(x2[:3:2,:3:2]) # slice alternate elements in first three rows and first three columns"
      ],
      "metadata": {
        "colab": {
          "base_uri": "https://localhost:8080/"
        },
        "id": "RlvJz5-F_QJI",
        "outputId": "a29a891b-e621-4dde-f947-f053c89990f8"
      },
      "execution_count": null,
      "outputs": [
        {
          "output_type": "stream",
          "name": "stdout",
          "text": [
            "[[1 3]\n",
            " [5 7]]\n"
          ]
        }
      ]
    },
    {
      "cell_type": "markdown",
      "source": [
        ">**Note:** Accessing array rows and columns\n",
        "\n",
        "One commonly needed routine is accessing of single rows or columns of an array.\n",
        "This can be done by combining indexing and slicing, using an empty slice marked by a single colon (``:``):"
      ],
      "metadata": {
        "id": "XycjLR9SACSH"
      }
    },
    {
      "cell_type": "markdown",
      "source": [
        ">For example *all the elements* in first column can be accessed as:"
      ],
      "metadata": {
        "id": "PF6bXZzLAO3I"
      }
    },
    {
      "cell_type": "code",
      "source": [
        "print(x2[:, 0])  # first column of x2"
      ],
      "metadata": {
        "colab": {
          "base_uri": "https://localhost:8080/"
        },
        "id": "PMSIOyfwABY1",
        "outputId": "8f98bdb4-e05d-4f98-9999-30c7bb4a77f2"
      },
      "execution_count": null,
      "outputs": [
        {
          "output_type": "stream",
          "name": "stdout",
          "text": [
            "[1 3 5]\n"
          ]
        }
      ]
    },
    {
      "cell_type": "markdown",
      "source": [
        "### Creating copies of arrays\n",
        "\n",
        "Despite the nice features of array views, it is sometimes useful to instead explicitly copy the data within an array or a subarray. This can be most easily done with the ``copy()`` method:"
      ],
      "metadata": {
        "id": "D2BNtPstBDBw"
      }
    },
    {
      "cell_type": "code",
      "source": [
        "x2"
      ],
      "metadata": {
        "colab": {
          "base_uri": "https://localhost:8080/"
        },
        "id": "Qxhhg438t_n_",
        "outputId": "b7afe6a3-c357-480a-8c2b-352902367953"
      },
      "execution_count": null,
      "outputs": [
        {
          "output_type": "execute_result",
          "data": {
            "text/plain": [
              "array([[1, 2, 3],\n",
              "       [3, 4, 5],\n",
              "       [5, 6, 7]])"
            ]
          },
          "metadata": {},
          "execution_count": 89
        }
      ]
    },
    {
      "cell_type": "code",
      "source": [
        "# create a copy of subarray and store it with the new name\n",
        "x2_sub_copy = x2[:2, :2].copy()\n",
        "print(x2_sub_copy)"
      ],
      "metadata": {
        "colab": {
          "base_uri": "https://localhost:8080/"
        },
        "id": "jb93hDmgAffv",
        "outputId": "8181f7b7-1542-423a-f2fb-1a6ca03288a5"
      },
      "execution_count": null,
      "outputs": [
        {
          "output_type": "stream",
          "name": "stdout",
          "text": [
            "[[1 2]\n",
            " [3 4]]\n"
          ]
        }
      ]
    },
    {
      "cell_type": "markdown",
      "source": [
        "If we now modify this subarray, the original array is not touched:"
      ],
      "metadata": {
        "id": "0kpDKdMaCggE"
      }
    },
    {
      "cell_type": "code",
      "source": [
        "x2_sub_copy[0, 0] = 42\n",
        "print(x2_sub_copy)"
      ],
      "metadata": {
        "colab": {
          "base_uri": "https://localhost:8080/"
        },
        "id": "xzrDdcleAfcN",
        "outputId": "cf41c9a5-6351-4cd7-a1f6-5e19158dbf49"
      },
      "execution_count": null,
      "outputs": [
        {
          "output_type": "stream",
          "name": "stdout",
          "text": [
            "[[42  2]\n",
            " [ 3  4]]\n"
          ]
        }
      ]
    },
    {
      "cell_type": "code",
      "source": [
        "print(x2)"
      ],
      "metadata": {
        "colab": {
          "base_uri": "https://localhost:8080/"
        },
        "id": "qfIH00LACqK4",
        "outputId": "fb3c9580-3976-4c02-a97c-c8e0f484e4e7"
      },
      "execution_count": null,
      "outputs": [
        {
          "output_type": "stream",
          "name": "stdout",
          "text": [
            "[[1 2 3]\n",
            " [3 4 5]\n",
            " [5 6 7]]\n"
          ]
        }
      ]
    },
    {
      "cell_type": "markdown",
      "source": [
        "## Reshaping of Arrays\n",
        "\n",
        "Another useful type of operation is reshaping of arrays.\n",
        "The most flexible way of doing this is with the ``reshape`` method.\n",
        "For example, if you want to put the numbers 1 through 9 in a $3 \\times 3$ grid, you can do the following:"
      ],
      "metadata": {
        "id": "97C4tcIlDNKB"
      }
    },
    {
      "cell_type": "code",
      "source": [
        "np.arange(1, 10)"
      ],
      "metadata": {
        "colab": {
          "base_uri": "https://localhost:8080/"
        },
        "id": "jmlUtMulQvdq",
        "outputId": "532138bf-eb25-4dcf-976a-0dc5edb84c7e"
      },
      "execution_count": null,
      "outputs": [
        {
          "output_type": "execute_result",
          "data": {
            "text/plain": [
              "array([1, 2, 3, 4, 5, 6, 7, 8, 9])"
            ]
          },
          "metadata": {},
          "execution_count": 49
        }
      ]
    },
    {
      "cell_type": "code",
      "source": [
        "grid = np.arange(1, 10).reshape((9, 1))\n",
        "print(grid)"
      ],
      "metadata": {
        "colab": {
          "base_uri": "https://localhost:8080/"
        },
        "id": "h45CcnnTESdN",
        "outputId": "9b25ef08-0b6f-4182-90eb-ed62f8ec029b"
      },
      "execution_count": null,
      "outputs": [
        {
          "output_type": "stream",
          "name": "stdout",
          "text": [
            "[[1]\n",
            " [2]\n",
            " [3]\n",
            " [4]\n",
            " [5]\n",
            " [6]\n",
            " [7]\n",
            " [8]\n",
            " [9]]\n"
          ]
        }
      ]
    },
    {
      "cell_type": "markdown",
      "source": [
        ">**Note:** Note that for this to work, the size of the initial array must match the size of the reshaped array. Where possible, the reshape method will use a no-copy view of the initial array, but with non-contiguous memory buffers this is not always the case.\n",
        "\n",
        "Another common reshaping pattern is the conversion of a one-dimensional array into a two-dimensional row or column matrix. This can be done with the reshape method, or more easily done by making use of the newaxis keyword within a slice operation:"
      ],
      "metadata": {
        "id": "lrS4OT2dFoiM"
      }
    },
    {
      "cell_type": "code",
      "source": [
        "x = np.array([1, 2, 3])"
      ],
      "metadata": {
        "id": "pWIaqCxJFj23"
      },
      "execution_count": null,
      "outputs": []
    },
    {
      "cell_type": "code",
      "source": [
        "print(x)"
      ],
      "metadata": {
        "colab": {
          "base_uri": "https://localhost:8080/"
        },
        "id": "VrCv9QzmGOUU",
        "outputId": "00550842-42f5-45c9-8c30-22b51ffabeea"
      },
      "execution_count": null,
      "outputs": [
        {
          "output_type": "stream",
          "name": "stdout",
          "text": [
            "[1 2 3]\n"
          ]
        }
      ]
    },
    {
      "cell_type": "code",
      "source": [
        "x.shape"
      ],
      "metadata": {
        "colab": {
          "base_uri": "https://localhost:8080/"
        },
        "id": "Sm4xZP3fzw0J",
        "outputId": "fb233e69-0d25-4b82-bba3-24954157fee9"
      },
      "execution_count": null,
      "outputs": [
        {
          "output_type": "execute_result",
          "data": {
            "text/plain": [
              "(3,)"
            ]
          },
          "metadata": {},
          "execution_count": 56
        }
      ]
    },
    {
      "cell_type": "code",
      "source": [
        "# row vector via reshape\n",
        "x1=x.reshape((1, 3))"
      ],
      "metadata": {
        "id": "bD6l5jqkF8Y2"
      },
      "execution_count": null,
      "outputs": []
    },
    {
      "cell_type": "code",
      "source": [
        "x1.shape"
      ],
      "metadata": {
        "colab": {
          "base_uri": "https://localhost:8080/"
        },
        "id": "f-pCW1y8z7Ue",
        "outputId": "3c40f73b-51c1-40c5-ee7d-c1d26ab95ad4"
      },
      "execution_count": null,
      "outputs": [
        {
          "output_type": "execute_result",
          "data": {
            "text/plain": [
              "(1, 3)"
            ]
          },
          "metadata": {},
          "execution_count": 57
        }
      ]
    },
    {
      "cell_type": "code",
      "source": [
        "print(x1)"
      ],
      "metadata": {
        "colab": {
          "base_uri": "https://localhost:8080/"
        },
        "id": "WZGNZyEhGasX",
        "outputId": "932cf9e5-9171-4610-ae5e-3720f590f70e"
      },
      "execution_count": null,
      "outputs": [
        {
          "output_type": "stream",
          "name": "stdout",
          "text": [
            "[[1 2 3]]\n"
          ]
        }
      ]
    },
    {
      "cell_type": "code",
      "source": [
        "x"
      ],
      "metadata": {
        "colab": {
          "base_uri": "https://localhost:8080/"
        },
        "id": "U74DtESr0KNl",
        "outputId": "ed933acb-8a62-4a0c-e518-a05d74b3a7ed"
      },
      "execution_count": null,
      "outputs": [
        {
          "output_type": "execute_result",
          "data": {
            "text/plain": [
              "array([1, 2, 3])"
            ]
          },
          "metadata": {},
          "execution_count": 58
        }
      ]
    },
    {
      "cell_type": "code",
      "source": [
        "# row vector via newaxis\n",
        "x[np.newaxis, :]"
      ],
      "metadata": {
        "colab": {
          "base_uri": "https://localhost:8080/"
        },
        "id": "4KvNRulZHJde",
        "outputId": "83275647-c279-4d6b-e8e2-b324bc5cfc6a"
      },
      "execution_count": null,
      "outputs": [
        {
          "output_type": "execute_result",
          "data": {
            "text/plain": [
              "array([[1, 2, 3]])"
            ]
          },
          "metadata": {},
          "execution_count": 59
        }
      ]
    },
    {
      "cell_type": "code",
      "source": [
        "# column vector via reshape\n",
        "x.reshape((3, 1))"
      ],
      "metadata": {
        "colab": {
          "base_uri": "https://localhost:8080/"
        },
        "id": "ocCvGGh1HWEp",
        "outputId": "bdec0c96-36db-4c77-8aed-b2217d6a8ffd"
      },
      "execution_count": null,
      "outputs": [
        {
          "output_type": "execute_result",
          "data": {
            "text/plain": [
              "array([[1],\n",
              "       [2],\n",
              "       [3]])"
            ]
          },
          "metadata": {},
          "execution_count": 58
        }
      ]
    },
    {
      "cell_type": "code",
      "source": [
        "# column vector via newaxis\n",
        "x[:, np.newaxis]"
      ],
      "metadata": {
        "colab": {
          "base_uri": "https://localhost:8080/"
        },
        "id": "ctnSZ_gEHimT",
        "outputId": "05185870-7016-45e7-9c6a-01835bfc15c7"
      },
      "execution_count": null,
      "outputs": [
        {
          "output_type": "execute_result",
          "data": {
            "text/plain": [
              "array([[1],\n",
              "       [2],\n",
              "       [3]])"
            ]
          },
          "metadata": {},
          "execution_count": 60
        }
      ]
    },
    {
      "cell_type": "markdown",
      "source": [
        "## Array Concatenation and Splitting\n",
        "\n",
        "All of the preceding routines worked on single arrays. It's also possible to combine multiple arrays into one, and to conversely split a single array into multiple arrays. We'll take a look at those operations here."
      ],
      "metadata": {
        "id": "jAEGbA2sIhiO"
      }
    },
    {
      "cell_type": "markdown",
      "source": [
        "### Concatenation of arrays\n",
        "\n",
        "Concatenation, or joining of two arrays in NumPy, is primarily accomplished using the routines ``np.concatenate``, ``np.vstack``, and ``np.hstack``.\n",
        "``np.concatenate`` takes a tuple or list of arrays as its first argument, as we can see here:"
      ],
      "metadata": {
        "id": "5h9XqopdJBnB"
      }
    },
    {
      "cell_type": "code",
      "source": [
        "x = np.array([1, 2, 3])\n",
        "y = np.array([3, 2, 1])\n",
        "np.concatenate([x, y])"
      ],
      "metadata": {
        "colab": {
          "base_uri": "https://localhost:8080/"
        },
        "id": "gc9MTqBmI7ly",
        "outputId": "59c5cc8b-0e58-48df-d77e-68482d4e770f"
      },
      "execution_count": null,
      "outputs": [
        {
          "output_type": "execute_result",
          "data": {
            "text/plain": [
              "array([1, 2, 3, 3, 2, 1])"
            ]
          },
          "metadata": {},
          "execution_count": 61
        }
      ]
    },
    {
      "cell_type": "code",
      "source": [
        "np.concatenate([y, y,y])"
      ],
      "metadata": {
        "colab": {
          "base_uri": "https://localhost:8080/"
        },
        "id": "W_DdYQ1vSluG",
        "outputId": "21ef2695-f89e-4064-e7e3-d01161934f85"
      },
      "execution_count": null,
      "outputs": [
        {
          "output_type": "execute_result",
          "data": {
            "text/plain": [
              "array([3, 2, 1, 3, 2, 1, 3, 2, 1])"
            ]
          },
          "metadata": {},
          "execution_count": 62
        }
      ]
    },
    {
      "cell_type": "markdown",
      "source": [
        "You can also concatenate more than two arrays at once:"
      ],
      "metadata": {
        "id": "dEKF1B2fKGEB"
      }
    },
    {
      "cell_type": "code",
      "source": [
        "z = [99, 99, 99]\n",
        "print(np.concatenate([x, y, z]))"
      ],
      "metadata": {
        "colab": {
          "base_uri": "https://localhost:8080/"
        },
        "id": "ydMpHj7HKG8F",
        "outputId": "33480bfb-cba3-4c45-8209-cf2514a4be51"
      },
      "execution_count": null,
      "outputs": [
        {
          "output_type": "stream",
          "name": "stdout",
          "text": [
            "[ 1  2  3  3  2  1 99 99 99]\n"
          ]
        }
      ]
    },
    {
      "cell_type": "markdown",
      "source": [
        "It can also be used for two-dimensional arrays:\n",
        "\n",
        "\n",
        "\n"
      ],
      "metadata": {
        "id": "Q26MDX5uLAko"
      }
    },
    {
      "cell_type": "code",
      "source": [
        "grid1 = np.array([[1, 2, 3],\n",
        "                 [4, 5, 6]])\n",
        "grid2=np.array([[5,5,5],[7,7,7]])"
      ],
      "metadata": {
        "id": "_Kpc31PyK9Y3"
      },
      "execution_count": null,
      "outputs": []
    },
    {
      "cell_type": "code",
      "source": [
        "# concatenate along the first axis\n",
        "nm=np.concatenate([grid1, grid2],axis=0)"
      ],
      "metadata": {
        "id": "PkgvHpWxLGSG"
      },
      "execution_count": null,
      "outputs": []
    },
    {
      "cell_type": "code",
      "source": [
        "nm.shape"
      ],
      "metadata": {
        "colab": {
          "base_uri": "https://localhost:8080/"
        },
        "id": "pMoXZwYo2q_f",
        "outputId": "e715e650-7080-4e53-9751-08ce7fb2aa56"
      },
      "execution_count": null,
      "outputs": [
        {
          "output_type": "execute_result",
          "data": {
            "text/plain": [
              "(2, 6)"
            ]
          },
          "metadata": {},
          "execution_count": 68
        }
      ]
    },
    {
      "cell_type": "code",
      "source": [
        "# concatenate along the second axis (horrizontal) (zero-indexed)\n",
        "np.concatenate([grid1, grid2], axis=1)"
      ],
      "metadata": {
        "colab": {
          "base_uri": "https://localhost:8080/"
        },
        "id": "bUUyYbuWLuST",
        "outputId": "f345fd09-6fa0-4da4-c702-55719acbaa3a"
      },
      "execution_count": null,
      "outputs": [
        {
          "output_type": "execute_result",
          "data": {
            "text/plain": [
              "array([[1, 2, 3, 5, 5, 5],\n",
              "       [4, 5, 6, 7, 7, 7]])"
            ]
          },
          "metadata": {},
          "execution_count": 69
        }
      ]
    },
    {
      "cell_type": "markdown",
      "source": [
        "For working with arrays of mixed dimensions, it can be clearer to use the np.vstack (vertical stack) and np.hstack (horizontal stack) functions:"
      ],
      "metadata": {
        "id": "JGN1kDZ5NOjF"
      }
    },
    {
      "cell_type": "code",
      "source": [
        "x = np.array([1, 2, 3])\n",
        "grid = np.array([[9, 8, 7],\n",
        "                 [6, 5, 4]])\n",
        "\n",
        "# vertically stack the arrays\n",
        "grid"
      ],
      "metadata": {
        "colab": {
          "base_uri": "https://localhost:8080/"
        },
        "id": "bNiXPxD9N1BN",
        "outputId": "f1b09faa-9e4d-4abc-bb1a-8e9ae469ba5f"
      },
      "execution_count": null,
      "outputs": [
        {
          "output_type": "execute_result",
          "data": {
            "text/plain": [
              "array([[9, 8, 7],\n",
              "       [6, 5, 4]])"
            ]
          },
          "metadata": {},
          "execution_count": 71
        }
      ]
    },
    {
      "cell_type": "code",
      "source": [
        "grid2=np.vstack([grid,x])"
      ],
      "metadata": {
        "id": "lHyCmo8cURpH"
      },
      "execution_count": null,
      "outputs": []
    },
    {
      "cell_type": "code",
      "source": [
        "grid2"
      ],
      "metadata": {
        "colab": {
          "base_uri": "https://localhost:8080/"
        },
        "id": "x3WZRn_S4fk0",
        "outputId": "7c86df49-09a5-4800-e1d0-19e7fa21887b"
      },
      "execution_count": null,
      "outputs": [
        {
          "output_type": "execute_result",
          "data": {
            "text/plain": [
              "array([[9, 8, 7],\n",
              "       [6, 5, 4],\n",
              "       [1, 2, 3]])"
            ]
          },
          "metadata": {},
          "execution_count": 79
        }
      ]
    },
    {
      "cell_type": "code",
      "source": [
        "# horizontally stack the arrays\n",
        "y = np.array([[99],\n",
        "              [99],[3]])\n"
      ],
      "metadata": {
        "id": "K-9yHDElN-Nz"
      },
      "execution_count": null,
      "outputs": []
    },
    {
      "cell_type": "code",
      "source": [
        "grid2"
      ],
      "metadata": {
        "colab": {
          "base_uri": "https://localhost:8080/"
        },
        "id": "t3DN7ubH4R5V",
        "outputId": "f6bb1325-84c6-4990-db7a-a25a0d2e2a02"
      },
      "execution_count": null,
      "outputs": [
        {
          "output_type": "execute_result",
          "data": {
            "text/plain": [
              "array([[9, 8, 7],\n",
              "       [6, 5, 4],\n",
              "       [1, 2, 3]])"
            ]
          },
          "metadata": {},
          "execution_count": 80
        }
      ]
    },
    {
      "cell_type": "code",
      "source": [
        "np.hstack([grid2, y])"
      ],
      "metadata": {
        "colab": {
          "base_uri": "https://localhost:8080/"
        },
        "id": "vACzou8cVckH",
        "outputId": "83a378ce-e504-40b1-b3bc-19348bc179bc"
      },
      "execution_count": null,
      "outputs": [
        {
          "output_type": "execute_result",
          "data": {
            "text/plain": [
              "array([[ 9,  8,  7, 99],\n",
              "       [ 6,  5,  4, 99],\n",
              "       [ 1,  2,  3,  3]])"
            ]
          },
          "metadata": {},
          "execution_count": 81
        }
      ]
    },
    {
      "cell_type": "markdown",
      "source": [
        "## Splitting of arrays\n",
        "The opposite of concatenation is splitting, which is implemented by the functions ``np.split``, ``np.hsplit``, and ``np.vsplit``.  For each of these, we can pass a list of indices giving the split points:"
      ],
      "metadata": {
        "id": "b893C8YAA9uq"
      }
    },
    {
      "cell_type": "code",
      "source": [
        "x = [1, 2, 3, 99, 99, 3, 2, 1]"
      ],
      "metadata": {
        "id": "jkUqM60pBcs2"
      },
      "execution_count": null,
      "outputs": []
    },
    {
      "cell_type": "code",
      "source": [
        "import numpy as np # import numpy to use split function"
      ],
      "metadata": {
        "id": "dnf5ydNEBqbH"
      },
      "execution_count": null,
      "outputs": []
    },
    {
      "cell_type": "markdown",
      "source": [
        "> Now split the list into two sub lists at index 2"
      ],
      "metadata": {
        "id": "quG7sL_5DqvL"
      }
    },
    {
      "cell_type": "code",
      "source": [
        "x1,x2,x3=np.split(x,[2,4])"
      ],
      "metadata": {
        "id": "NpyyjwKaCBnj"
      },
      "execution_count": null,
      "outputs": []
    },
    {
      "cell_type": "code",
      "source": [
        "x"
      ],
      "metadata": {
        "colab": {
          "base_uri": "https://localhost:8080/"
        },
        "id": "tfs9wKhh541o",
        "outputId": "b2c07de0-19a7-4c01-95af-20e057ee0d85"
      },
      "execution_count": null,
      "outputs": [
        {
          "output_type": "execute_result",
          "data": {
            "text/plain": [
              "[1, 2, 3, 99, 99, 3, 2, 1]"
            ]
          },
          "metadata": {},
          "execution_count": 89
        }
      ]
    },
    {
      "cell_type": "code",
      "source": [
        "print(x1,\"\\n\",x2,'\\n',x3)"
      ],
      "metadata": {
        "colab": {
          "base_uri": "https://localhost:8080/"
        },
        "id": "iYchy6BdCP-_",
        "outputId": "8ffe07c9-8ecc-46b0-c666-577dded533c0"
      },
      "execution_count": null,
      "outputs": [
        {
          "output_type": "stream",
          "name": "stdout",
          "text": [
            "[1 2] \n",
            " [ 3 99] \n",
            " [99  3  2  1]\n"
          ]
        }
      ]
    },
    {
      "cell_type": "markdown",
      "source": [
        ">**Notice:** that $N$ split-points, leads to $N + 1$ subarrays.\n",
        "\n",
        "The related functions ``np.hsplit`` and ``np.vsplit`` are similar:"
      ],
      "metadata": {
        "id": "j8aB5rweEMha"
      }
    },
    {
      "cell_type": "code",
      "source": [
        "grid = np.arange(16).reshape((4, 4))\n",
        "grid"
      ],
      "metadata": {
        "colab": {
          "base_uri": "https://localhost:8080/"
        },
        "id": "nUTk3H--Ejih",
        "outputId": "d4d31a14-5a2a-408d-f3bf-7d036366dc10"
      },
      "execution_count": null,
      "outputs": [
        {
          "output_type": "execute_result",
          "data": {
            "text/plain": [
              "array([[ 0,  1,  2,  3],\n",
              "       [ 4,  5,  6,  7],\n",
              "       [ 8,  9, 10, 11],\n",
              "       [12, 13, 14, 15]])"
            ]
          },
          "metadata": {},
          "execution_count": 91
        }
      ]
    },
    {
      "cell_type": "code",
      "source": [
        "upper, lower = np.vsplit(grid, [2])\n",
        "print(upper)\n",
        "print(lower)"
      ],
      "metadata": {
        "colab": {
          "base_uri": "https://localhost:8080/"
        },
        "id": "_ROUuZJTFQuX",
        "outputId": "dd90146e-57c8-4c27-edd9-075b0d6f5656"
      },
      "execution_count": null,
      "outputs": [
        {
          "output_type": "stream",
          "name": "stdout",
          "text": [
            "[[0 1 2 3]\n",
            " [4 5 6 7]]\n",
            "[[ 8  9 10 11]\n",
            " [12 13 14 15]]\n"
          ]
        }
      ]
    },
    {
      "cell_type": "code",
      "source": [
        "grid"
      ],
      "metadata": {
        "colab": {
          "base_uri": "https://localhost:8080/"
        },
        "id": "I2IcHcZqGPfX",
        "outputId": "6eae53c3-9446-45bb-a8dd-4b5f9c97805f"
      },
      "execution_count": null,
      "outputs": [
        {
          "output_type": "execute_result",
          "data": {
            "text/plain": [
              "array([[ 0,  1,  2,  3],\n",
              "       [ 4,  5,  6,  7],\n",
              "       [ 8,  9, 10, 11],\n",
              "       [12, 13, 14, 15]])"
            ]
          },
          "metadata": {},
          "execution_count": 93
        }
      ]
    },
    {
      "cell_type": "code",
      "source": [
        "left, right = np.hsplit(grid, [2])\n",
        "print(\"Left array:\\n\",left,\"\\n Right array:\\n\",right)\n"
      ],
      "metadata": {
        "colab": {
          "base_uri": "https://localhost:8080/"
        },
        "id": "mRRxgPnYGN2A",
        "outputId": "67d79515-8749-42d5-bd50-e5615e900eed"
      },
      "execution_count": null,
      "outputs": [
        {
          "output_type": "stream",
          "name": "stdout",
          "text": [
            "Left array:\n",
            " [[ 0  1]\n",
            " [ 4  5]\n",
            " [ 8  9]\n",
            " [12 13]] \n",
            " Right array:\n",
            " [[ 2  3]\n",
            " [ 6  7]\n",
            " [10 11]\n",
            " [14 15]]\n"
          ]
        }
      ]
    },
    {
      "cell_type": "markdown",
      "source": [
        "## Some important `numpy` function"
      ],
      "metadata": {
        "id": "iPYQOpBFPwOP"
      }
    },
    {
      "cell_type": "code",
      "source": [
        "np.eye(3) #identity matrix\n"
      ],
      "metadata": {
        "colab": {
          "base_uri": "https://localhost:8080/"
        },
        "id": "w8JwjCEQP00N",
        "outputId": "d871ab28-0ae2-44bb-a3e7-ea7bb6ae6fe3"
      },
      "execution_count": null,
      "outputs": [
        {
          "output_type": "execute_result",
          "data": {
            "text/plain": [
              "array([[1., 0., 0.],\n",
              "       [0., 1., 0.],\n",
              "       [0., 0., 1.]])"
            ]
          },
          "metadata": {},
          "execution_count": 98
        }
      ]
    },
    {
      "cell_type": "code",
      "source": [
        "np.ones((2,2)) # one matrix"
      ],
      "metadata": {
        "colab": {
          "base_uri": "https://localhost:8080/"
        },
        "id": "nVkOrAfVQF8N",
        "outputId": "4b41c981-4074-4401-ea1f-1c9c25a9ba2c"
      },
      "execution_count": null,
      "outputs": [
        {
          "output_type": "execute_result",
          "data": {
            "text/plain": [
              "array([[1., 1.],\n",
              "       [1., 1.]])"
            ]
          },
          "metadata": {},
          "execution_count": 6
        }
      ]
    },
    {
      "cell_type": "code",
      "source": [
        "np.zeros((3,4))"
      ],
      "metadata": {
        "colab": {
          "base_uri": "https://localhost:8080/"
        },
        "id": "R6gpawhcQN7m",
        "outputId": "151677c9-b3ad-4d99-950c-c950ea6c2e13"
      },
      "execution_count": null,
      "outputs": [
        {
          "output_type": "execute_result",
          "data": {
            "text/plain": [
              "array([[0., 0., 0., 0.],\n",
              "       [0., 0., 0., 0.],\n",
              "       [0., 0., 0., 0.]])"
            ]
          },
          "metadata": {},
          "execution_count": 99
        }
      ]
    },
    {
      "cell_type": "code",
      "source": [
        "np.diag([1,2,3]) #creating a diagonal matrix"
      ],
      "metadata": {
        "colab": {
          "base_uri": "https://localhost:8080/"
        },
        "id": "nPPB890xQVaT",
        "outputId": "6d2a469d-6151-4b97-c027-529fa06bafe9"
      },
      "execution_count": null,
      "outputs": [
        {
          "output_type": "execute_result",
          "data": {
            "text/plain": [
              "array([[ 0, -1, -1],\n",
              "       [-1,  1, -1],\n",
              "       [-1, -1,  2]])"
            ]
          },
          "metadata": {},
          "execution_count": 10
        }
      ]
    },
    {
      "cell_type": "code",
      "source": [
        "np.diag(np.array([1,2,3])-1) # creating A-\\lambda I"
      ],
      "metadata": {
        "colab": {
          "base_uri": "https://localhost:8080/"
        },
        "id": "iX-vbP5JQm8O",
        "outputId": "4193ebc7-7b94-4623-eab2-c3de0d2d0571"
      },
      "execution_count": null,
      "outputs": [
        {
          "output_type": "execute_result",
          "data": {
            "text/plain": [
              "array([[0, 0, 0],\n",
              "       [0, 1, 0],\n",
              "       [0, 0, 2]])"
            ]
          },
          "metadata": {},
          "execution_count": 12
        }
      ]
    },
    {
      "cell_type": "code",
      "source": [
        "np.diag([1,2,3])**2 # element-wise squaring"
      ],
      "metadata": {
        "colab": {
          "base_uri": "https://localhost:8080/"
        },
        "id": "TpvBrpYKRAiO",
        "outputId": "5f37e3e5-74e8-4fc6-dd01-3aa1b4fc7cc4"
      },
      "execution_count": null,
      "outputs": [
        {
          "output_type": "execute_result",
          "data": {
            "text/plain": [
              "array([[1, 0, 0],\n",
              "       [0, 4, 0],\n",
              "       [0, 0, 9]])"
            ]
          },
          "metadata": {},
          "execution_count": 13
        }
      ]
    },
    {
      "cell_type": "markdown",
      "source": [
        ">**Task:** Create a $3\\times 3$ matrix containing first 9 non-zero integres and find $A-3 I$ with `numpy` array operations."
      ],
      "metadata": {
        "id": "S50PAgohRPJ-"
      }
    },
    {
      "cell_type": "markdown",
      "source": [
        ">Task 1\n",
        "Create a matrix, $A$ using `numpy`  and find the covariance , $cov(A)$ using matrix operation."
      ],
      "metadata": {
        "id": "WzexxD6nisP0"
      }
    },
    {
      "cell_type": "code",
      "source": [
        "# creating a random matrix\n",
        "import numpy as np\n",
        "A=np.arange(16).reshape(4,4)\n",
        "A"
      ],
      "metadata": {
        "colab": {
          "base_uri": "https://localhost:8080/"
        },
        "id": "Lf-CLZyOjlkN",
        "outputId": "db452770-37e6-47fe-dbbe-1e4681d3b66b"
      },
      "execution_count": null,
      "outputs": [
        {
          "output_type": "execute_result",
          "data": {
            "text/plain": [
              "array([[ 0,  1,  2,  3],\n",
              "       [ 4,  5,  6,  7],\n",
              "       [ 8,  9, 10, 11],\n",
              "       [12, 13, 14, 15]])"
            ]
          },
          "metadata": {},
          "execution_count": 101
        }
      ]
    },
    {
      "cell_type": "markdown",
      "source": [
        "> Finding $A-\\bar{A}$"
      ],
      "metadata": {
        "id": "o1bN3gGzt60b"
      }
    },
    {
      "cell_type": "code",
      "source": [
        "A_bar=np.mean(A,axis=1) # calculating row-wise sum\n",
        "A_bar"
      ],
      "metadata": {
        "colab": {
          "base_uri": "https://localhost:8080/"
        },
        "id": "K18_ZlstmGrl",
        "outputId": "95973f2e-1bb9-4334-95d9-b87e80a5eb24"
      },
      "execution_count": null,
      "outputs": [
        {
          "output_type": "execute_result",
          "data": {
            "text/plain": [
              "array([ 1.5,  5.5,  9.5, 13.5])"
            ]
          },
          "metadata": {},
          "execution_count": 103
        }
      ]
    },
    {
      "cell_type": "code",
      "source": [
        "# creating a matrix to get element by element subtraction\n",
        "np.outer(A_bar,np.ones(4))"
      ],
      "metadata": {
        "colab": {
          "base_uri": "https://localhost:8080/"
        },
        "id": "e-ag0O5S7uGS",
        "outputId": "4f6bcc9c-1b45-475d-c16b-39e757a65e04"
      },
      "execution_count": null,
      "outputs": [
        {
          "output_type": "execute_result",
          "data": {
            "text/plain": [
              "array([[ 1.5,  1.5,  1.5,  1.5],\n",
              "       [ 5.5,  5.5,  5.5,  5.5],\n",
              "       [ 9.5,  9.5,  9.5,  9.5],\n",
              "       [13.5, 13.5, 13.5, 13.5]])"
            ]
          },
          "metadata": {},
          "execution_count": 89
        }
      ]
    },
    {
      "cell_type": "code",
      "source": [
        "# calculating A-A bar with outer product opertation\n",
        "(A-np.outer(A_bar,np.ones(4)))"
      ],
      "metadata": {
        "colab": {
          "base_uri": "https://localhost:8080/"
        },
        "id": "lZyKipg_sB4z",
        "outputId": "a56276c6-5c2a-44f6-dbe2-bf90f6b3cfeb"
      },
      "execution_count": null,
      "outputs": [
        {
          "output_type": "execute_result",
          "data": {
            "text/plain": [
              "array([[-1.5, -0.5,  0.5,  1.5],\n",
              "       [-1.5, -0.5,  0.5,  1.5],\n",
              "       [-1.5, -0.5,  0.5,  1.5],\n",
              "       [-1.5, -0.5,  0.5,  1.5]])"
            ]
          },
          "metadata": {},
          "execution_count": 78
        }
      ]
    },
    {
      "cell_type": "code",
      "source": [
        "#calculating A-A_bar using broadcasting\n",
        "X=A-np.mean(A,axis=1).reshape(4,1)"
      ],
      "metadata": {
        "id": "xUGmsMOv5JCu"
      },
      "execution_count": null,
      "outputs": []
    },
    {
      "cell_type": "code",
      "source": [
        "X"
      ],
      "metadata": {
        "colab": {
          "base_uri": "https://localhost:8080/"
        },
        "id": "R1YhnQ9u5sKF",
        "outputId": "6f81daf1-e4da-4e12-b981-88ae758b2480"
      },
      "execution_count": null,
      "outputs": [
        {
          "output_type": "execute_result",
          "data": {
            "text/plain": [
              "array([[-1.5, -0.5,  0.5,  1.5],\n",
              "       [-1.5, -0.5,  0.5,  1.5],\n",
              "       [-1.5, -0.5,  0.5,  1.5],\n",
              "       [-1.5, -0.5,  0.5,  1.5]])"
            ]
          },
          "metadata": {},
          "execution_count": 92
        }
      ]
    },
    {
      "cell_type": "code",
      "source": [
        "#mannualy calculating covariance\n",
        "CoV=(1/3)*np.dot(X,X.T)\n",
        "CoV"
      ],
      "metadata": {
        "colab": {
          "base_uri": "https://localhost:8080/"
        },
        "id": "3vew0r3tkP_6",
        "outputId": "029193d4-eda9-43e3-84b9-db1600f143fd"
      },
      "execution_count": null,
      "outputs": [
        {
          "output_type": "execute_result",
          "data": {
            "text/plain": [
              "array([[1.66666667, 1.66666667, 1.66666667, 1.66666667],\n",
              "       [1.66666667, 1.66666667, 1.66666667, 1.66666667],\n",
              "       [1.66666667, 1.66666667, 1.66666667, 1.66666667],\n",
              "       [1.66666667, 1.66666667, 1.66666667, 1.66666667]])"
            ]
          },
          "metadata": {},
          "execution_count": 100
        }
      ]
    },
    {
      "cell_type": "code",
      "source": [
        "#calculating covariance using numpy function\n",
        "np.cov(A)"
      ],
      "metadata": {
        "colab": {
          "base_uri": "https://localhost:8080/"
        },
        "id": "iqezjeIFlrEi",
        "outputId": "80dd2ff8-30f9-4935-f748-ab95b08a319b"
      },
      "execution_count": null,
      "outputs": [
        {
          "output_type": "execute_result",
          "data": {
            "text/plain": [
              "array([[1.66666667, 1.66666667, 1.66666667, 1.66666667],\n",
              "       [1.66666667, 1.66666667, 1.66666667, 1.66666667],\n",
              "       [1.66666667, 1.66666667, 1.66666667, 1.66666667],\n",
              "       [1.66666667, 1.66666667, 1.66666667, 1.66666667]])"
            ]
          },
          "metadata": {},
          "execution_count": 36
        }
      ]
    },
    {
      "cell_type": "code",
      "source": [
        "#comparing two ways of flattening a matrix using numpy\n",
        "A.reshape(-1)==A.reshape(16,)"
      ],
      "metadata": {
        "colab": {
          "base_uri": "https://localhost:8080/"
        },
        "id": "7SWpXSAyvAWU",
        "outputId": "47fd9f7b-28c7-4b14-ff30-bc3a4dc6c531"
      },
      "execution_count": null,
      "outputs": [
        {
          "output_type": "execute_result",
          "data": {
            "text/plain": [
              "array([ True,  True,  True,  True,  True,  True,  True,  True,  True,\n",
              "        True,  True,  True,  True,  True,  True,  True])"
            ]
          },
          "metadata": {},
          "execution_count": 39
        }
      ]
    }
  ],
  "metadata": {
    "colab": {
      "provenance": [],
      "include_colab_link": true
    },
    "kernelspec": {
      "display_name": "Python 3",
      "name": "python3"
    },
    "language_info": {
      "name": "python"
    }
  },
  "nbformat": 4,
  "nbformat_minor": 0
}