{
  "nbformat": 4,
  "nbformat_minor": 0,
  "metadata": {
    "colab": {
      "provenance": [],
      "authorship_tag": "ABX9TyPbnpL6gz9mUeefppdydDXk",
      "include_colab_link": true
    },
    "kernelspec": {
      "name": "python3",
      "display_name": "Python 3"
    },
    "language_info": {
      "name": "python"
    }
  },
  "cells": [
    {
      "cell_type": "markdown",
      "metadata": {
        "id": "view-in-github",
        "colab_type": "text"
      },
      "source": [
        "<a href=\"https://colab.research.google.com/github/MinMint01/Basic-Python-for-ML/blob/main/Python_Examples.ipynb\" target=\"_parent\"><img src=\"https://colab.research.google.com/assets/colab-badge.svg\" alt=\"Open In Colab\"/></a>"
      ]
    },
    {
      "cell_type": "markdown",
      "source": [
        "##1. Program to find the largest out of three numbers:"
      ],
      "metadata": {
        "id": "IoX2d66SAioC"
      }
    },
    {
      "cell_type": "markdown",
      "source": [
        "STEPS:\n",
        "- Input the 3 numbers into variables num1,num2,num3\n",
        "- Compare the numbers:\n",
        "  - If num1>=num2 and num1>=num3, set num1 as the largest\n",
        "  - if num2>=num1 and num2>=num3, set num2 as the largest\n",
        "  - else, set num3 as the largest\n",
        "- Print the largest number\n"
      ],
      "metadata": {
        "id": "eLmaQgR-BfUj"
      }
    },
    {
      "cell_type": "code",
      "source": [
        "\"\"\"\n",
        "# Python program to find the largest number among the three input numbers\n",
        "\"\"\"\n",
        "num1 = float(input(\"Enter first number: \"))\n",
        "num2 = float(input(\"Enter second number: \"))\n",
        "num3 = float(input(\"Enter third number: \"))\n",
        "if (num1 >= num2) and (num1 >= num3):\n",
        "   largest = num1\n",
        "elif (num2 >= num1) and (num2 >= num3):\n",
        "   largest = num2\n",
        "else:\n",
        "   largest = num3\n",
        "print(\"The largest number is\", largest)"
      ],
      "metadata": {
        "colab": {
          "base_uri": "https://localhost:8080/"
        },
        "id": "IP0Rp8zNpGEL",
        "outputId": "7fd1192c-e3ca-40d6-cbdf-2b9216baa9d8"
      },
      "execution_count": null,
      "outputs": [
        {
          "output_type": "stream",
          "name": "stdout",
          "text": [
            "Enter first number: 2\n",
            "Enter second number: 5\n",
            "Enter third number: -1\n",
            "The largest number is 5.0\n"
          ]
        }
      ]
    },
    {
      "cell_type": "markdown",
      "source": [
        "## 2. Printing multiplication table"
      ],
      "metadata": {
        "id": "yiWkBjCAR_0-"
      }
    },
    {
      "cell_type": "markdown",
      "source": [
        "STEPS:\n",
        "- Read the input number, num\n",
        "- for i=1 to i=10, repeat:\n",
        "  - print num x i"
      ],
      "metadata": {
        "id": "oOfLefUEDCLS"
      }
    },
    {
      "cell_type": "code",
      "execution_count": null,
      "metadata": {
        "colab": {
          "base_uri": "https://localhost:8080/"
        },
        "id": "GXVl7OjcR71f",
        "outputId": "3afb2651-cf6c-4b9b-9ca6-69d33251a229"
      },
      "outputs": [
        {
          "output_type": "stream",
          "name": "stdout",
          "text": [
            "Display multiplication table of? 5\n",
            "5 x 1 = 5\n",
            "5 x 2 = 10\n",
            "5 x 3 = 15\n",
            "5 x 4 = 20\n",
            "5 x 5 = 25\n",
            "5 x 6 = 30\n",
            "5 x 7 = 35\n",
            "5 x 8 = 40\n",
            "5 x 9 = 45\n",
            "5 x 10 = 50\n"
          ]
        }
      ],
      "source": [
        "\"\"\"Program to print the multiplication table of a number\"\"\"\n",
        "\n",
        "# Multiplication table (from 1 to 10) in Python\n",
        "num = int(input(\"Display multiplication table of? \"))\n",
        "# Iterate 10 times from i = 1 to 10\n",
        "for i in range(1, 11):\n",
        "   print(num, 'x', i, '=', num*i)"
      ]
    },
    {
      "cell_type": "markdown",
      "source": [
        "## 3. Check for sign of a number"
      ],
      "metadata": {
        "id": "yo27A0UgSLMG"
      }
    },
    {
      "cell_type": "markdown",
      "source": [
        "STEPS:\n",
        "- Read the input number into variable num\n",
        "- if num>0, print \"Positive\"\n",
        "- Else if, num==0, print \"Zero\"\n",
        "- Else, print \"Negative\""
      ],
      "metadata": {
        "id": "YlWunxGvD3MR"
      }
    },
    {
      "cell_type": "code",
      "source": [
        "\"\"\"Program to find the sign of a number\"\"\"\n",
        "\n",
        "num = float(input(\"Enter a number: \"))\n",
        "if num > 0:\n",
        "   print(\"Positive number\")\n",
        "elif num == 0:\n",
        "   print(\"Zero\")\n",
        "else:\n",
        "   print(\"Negative number\")"
      ],
      "metadata": {
        "colab": {
          "base_uri": "https://localhost:8080/"
        },
        "id": "qagw5dYPSOtO",
        "outputId": "bc1b0775-3af4-4391-e07d-731f9de3b945"
      },
      "execution_count": null,
      "outputs": [
        {
          "output_type": "stream",
          "name": "stdout",
          "text": [
            "Enter a number: 0\n",
            "Zero\n"
          ]
        }
      ]
    },
    {
      "cell_type": "markdown",
      "source": [
        "## 4. Find surface area and volume of a cylinder\n",
        "\n",
        "Let $r$ is the base radius and $h$ is the height of a right circular cylinder.\n",
        "$$SA=2\\pi r(r+h)$$\n",
        "\n",
        "$$V=\\pi r^2 h$$"
      ],
      "metadata": {
        "id": "Rr--yGIkVoaw"
      }
    },
    {
      "cell_type": "markdown",
      "source": [
        "STEPS:\n",
        "- Read the Cylinder's Radius and Height\n",
        "- Calculate Surface Area as: `SA=2πr(r+h)`\n",
        "- Calculate Volume as: `V=πr2h`\n",
        "- Print the Surface Area and Volume of the Cylinder\n"
      ],
      "metadata": {
        "id": "3uGjMQK2ETWR"
      }
    },
    {
      "cell_type": "code",
      "source": [
        "\"\"\"Program to find the surface area and volume of a cylinder\"\"\"\n",
        "\n",
        "from math import pi\n",
        "r=float(input(\"Enter the radius: \"))\n",
        "h=float(input(\"Enter the height: \"))\n",
        "SA=2*pi*r*(r+h)\n",
        "V=pi*r**2*h\n",
        "print((\"Surface Area is {} and Volume is {}\").format(SA,V))"
      ],
      "metadata": {
        "colab": {
          "base_uri": "https://localhost:8080/"
        },
        "id": "NP5Yahw5Wazn",
        "outputId": "7d0e7d24-d00b-4d20-8c69-d8a0826a14b5"
      },
      "execution_count": null,
      "outputs": [
        {
          "output_type": "stream",
          "name": "stdout",
          "text": [
            "Enter the radius: 4\n",
            "Enter the height: 5\n",
            "Surface Area is 226.1946710584651 and Volume is 251.32741228718345\n"
          ]
        }
      ]
    },
    {
      "cell_type": "markdown",
      "source": [
        "## 5. Find area of a circle with radius $r$ using user input"
      ],
      "metadata": {
        "id": "sSr3xEtuXdw-"
      }
    },
    {
      "cell_type": "markdown",
      "source": [
        "STEPS:\n",
        "- Read the radius of the circle as 'r'\n",
        "- Calculate Area as: `Area=π*r^2`\n",
        "- Print the Area of the circle"
      ],
      "metadata": {
        "id": "jx_MVpWkGDZQ"
      }
    },
    {
      "cell_type": "code",
      "source": [
        "\"\"\"program to find area of a circle\"\"\"\n",
        "\n",
        "r=float(input(\"Enter the radius: \"))\n",
        "print(\"Area: \",pi*r**2)"
      ],
      "metadata": {
        "colab": {
          "base_uri": "https://localhost:8080/"
        },
        "id": "2joezx-KXljx",
        "outputId": "64ff89b9-cefd-4dd7-fc2c-75584835dd87"
      },
      "execution_count": null,
      "outputs": [
        {
          "output_type": "stream",
          "name": "stdout",
          "text": [
            "Enter the radius: 10\n",
            "Area:  314.1592653589793\n"
          ]
        }
      ]
    },
    {
      "cell_type": "markdown",
      "source": [
        "## 6. Find the area of a rectangle with lenght $l$ and breadth $b$"
      ],
      "metadata": {
        "id": "VRlXLlz9YD6N"
      }
    },
    {
      "cell_type": "markdown",
      "source": [
        "STEPS:\n",
        "- Read the length of the rectangle as 'l'\n",
        "- Read the breadth of the rectangle as 'b'\n",
        "- Calculate Area as: `Area = l*b`\n",
        "- Print the area of the rectangle"
      ],
      "metadata": {
        "id": "KY6aJ9OEG4Gg"
      }
    },
    {
      "cell_type": "code",
      "source": [
        "\"\"\"Program to find the area of a Rectangle\"\"\"\n",
        "\n",
        "l=float(input(\"Enter the lenght: \"))\n",
        "b=float(input(\"Enter the breadth: \"))\n",
        "Area=l*b\n",
        "print(\"Area of the Rectangle is : \",Area)"
      ],
      "metadata": {
        "colab": {
          "base_uri": "https://localhost:8080/"
        },
        "id": "tE_hVFL2YK2F",
        "outputId": "21e14119-38e2-4dc4-d0ae-ee32c8e06f0e"
      },
      "execution_count": null,
      "outputs": [
        {
          "output_type": "stream",
          "name": "stdout",
          "text": [
            "Enter the lenght: 10\n",
            "Enter the breadth: 40\n",
            "Area of the Rectangle is :  400.0\n"
          ]
        }
      ]
    },
    {
      "cell_type": "markdown",
      "source": [
        "## 7. Replacing a word with another word  in a sentence\n",
        "\n",
        "Use the `replace()` method in `python`\n",
        "\n",
        ">**Syntax:**\n",
        "\n",
        "```\n",
        "str.replace(old,new)\n",
        "```\n",
        "\n"
      ],
      "metadata": {
        "id": "SP246J1XZHbk"
      }
    },
    {
      "cell_type": "markdown",
      "source": [
        "STEPS:\n",
        "- Read the input text\n",
        "- Read the String to be replaced as s1\n",
        "- Read the String to replace s1 as s2\n",
        "- Use replace() to replace s1 with s2 in Text\n",
        "- Print the new text"
      ],
      "metadata": {
        "id": "a1R6gjB9IKdg"
      }
    },
    {
      "cell_type": "code",
      "source": [
        "\"\"\"Program to replace a word by another word in a sentence\"\"\"\n",
        "\n",
        "text=input(\"Enter the text: \")\n",
        "s1=input(\"Enter the String to be replaced: \")\n",
        "s2=input(\"Enter the String to replace the above String: \")\n",
        "replaced_text = text.replace(s1,s2)\n",
        "print(replaced_text)"
      ],
      "metadata": {
        "colab": {
          "base_uri": "https://localhost:8080/"
        },
        "id": "QfIPj2_SZM6n",
        "outputId": "11abb279-22c2-45e2-8cd2-60d49b705a38"
      },
      "execution_count": null,
      "outputs": [
        {
          "output_type": "stream",
          "name": "stdout",
          "text": [
            "Enter the text: hand ball is a hand full of hands\n",
            "Enter the String to be replaced: hand\n",
            "Enter the String to replace the above String: foot\n",
            "foot ball is a foot full of foots\n"
          ]
        }
      ]
    },
    {
      "cell_type": "markdown",
      "source": [
        "## 8. Program to remove a word from a sentence\n",
        "\n",
        "We will use the string method `remove()`.\n",
        "\n",
        ">**Syntax:**\n",
        "\n",
        "```\n",
        "str.remove(word to be removed)\n",
        "```"
      ],
      "metadata": {
        "id": "kpxkra3ZjgzQ"
      }
    },
    {
      "cell_type": "markdown",
      "source": [
        "STEPS:\n",
        "- Read the input Text\n",
        "- Read the Word to be removed\n",
        "- Remove the Word using replace function as: `text.replace(word,\"\")`\n",
        "- Print the updated Text"
      ],
      "metadata": {
        "id": "1XO7TMMzJSLJ"
      }
    },
    {
      "cell_type": "code",
      "source": [
        "\"\"\"Program to remove a word from a sentence using replace()\"\"\"\n",
        "\n",
        "text = input(\"Enter the String: \")\n",
        "word = input(\"Enter a Word to Delete: \")\n",
        "\n",
        "text = text.replace(word,\"\")\n",
        "print(\"The updated sentence is:\\n\")\n",
        "print(text)"
      ],
      "metadata": {
        "colab": {
          "base_uri": "https://localhost:8080/"
        },
        "id": "-bTOChg4kxRr",
        "outputId": "d0d4cf40-d6ef-480b-b70d-d5a692484c25"
      },
      "execution_count": null,
      "outputs": [
        {
          "output_type": "stream",
          "name": "stdout",
          "text": [
            "Enter the String: Hello New World\n",
            "Enter a Word to Delete: New\n",
            "The updated sentence is:\n",
            "\n",
            "Hello  World\n"
          ]
        }
      ]
    },
    {
      "cell_type": "markdown",
      "source": [
        "> We can also use remove() to Remove the word from the Text"
      ],
      "metadata": {
        "id": "kl4Yl7DBJ8Up"
      }
    },
    {
      "cell_type": "code",
      "source": [
        "\"\"\"Program to remove a word from a sentence using remove()\"\"\"\n",
        "\n",
        "text = input(\"Enter the String: \")\n",
        "text = text.split(\" \")\n",
        "word = input(\"Enter a Word to Delete: \")\n",
        "text.remove(word)\n",
        "print(\"The updated sentence is:\\n\")\n",
        "print(' '.join(text))"
      ],
      "metadata": {
        "id": "ccujKR0l7qwZ",
        "colab": {
          "base_uri": "https://localhost:8080/"
        },
        "outputId": "4b1463d4-e030-431d-eca8-0dcf8b8ee515"
      },
      "execution_count": null,
      "outputs": [
        {
          "output_type": "stream",
          "name": "stdout",
          "text": [
            "Enter the String: Hello New World\n",
            "Enter a Word to Delete: New\n",
            "The updated sentence is:\n",
            "\n",
            "Hello World\n"
          ]
        }
      ]
    },
    {
      "cell_type": "markdown",
      "source": [
        "## 9. Program to split a sentence into words\n",
        "\n",
        "use the `split()` method\n",
        ">**Syntax:**\n",
        "```\n",
        "str.split()\n",
        "```"
      ],
      "metadata": {
        "id": "NRg-zTGOlVKG"
      }
    },
    {
      "cell_type": "markdown",
      "source": [
        "STEPS:\n",
        "- Read the text\n",
        "- Use split() to split into a list\n",
        "- Print the list"
      ],
      "metadata": {
        "id": "ks3KnrVELuEg"
      }
    },
    {
      "cell_type": "code",
      "source": [
        "text = input(\"Enter the String: \")\n",
        "wordlist = text.split()\n",
        "wordlist"
      ],
      "metadata": {
        "colab": {
          "base_uri": "https://localhost:8080/"
        },
        "id": "GjXgR_vmlqRd",
        "outputId": "d144e1bb-01a7-460a-a239-a28a6916b499"
      },
      "execution_count": null,
      "outputs": [
        {
          "name": "stdout",
          "output_type": "stream",
          "text": [
            "Enter the String: Hello World\n"
          ]
        },
        {
          "output_type": "execute_result",
          "data": {
            "text/plain": [
              "['Hello', 'World']"
            ]
          },
          "metadata": {},
          "execution_count": 18
        }
      ]
    },
    {
      "cell_type": "markdown",
      "source": [
        "## 10. Program to check if a list of words is in a long string at least one"
      ],
      "metadata": {
        "id": "EAo8docqnlRg"
      }
    },
    {
      "cell_type": "markdown",
      "source": [
        "STEPS:\n",
        "- Read the Full text as `all_text`\n",
        "- Read the list of Keywords to search as `keyword_list`\n",
        "- Convert `keyword_list` into a set\n",
        "- Take the intersection of set `keyword_list` with `all_text`\n",
        "- If the intersection is 1, then print \"Found one\""
      ],
      "metadata": {
        "id": "p76kYqcnMxz3"
      }
    },
    {
      "cell_type": "code",
      "source": [
        "\"\"\"program to check atleat one occurance of keywords\"\"\"\n",
        "\n",
        "keyword_list = ['motorcycle', 'bike', 'bicycle', 'dirtbike', \"long\"]\n",
        "all_text = 'The bicycle is just as good company as most husbands and, when it gets old and shabby, a woman can dispose of it and get a new one without shocking the entire community'\n",
        "if set(keyword_list).intersection(all_text.split()):\n",
        "     print(\"Found One\")"
      ],
      "metadata": {
        "colab": {
          "base_uri": "https://localhost:8080/"
        },
        "id": "RnmT51ISnsVu",
        "outputId": "360d61c5-9489-4f04-e407-6cafbac49d51"
      },
      "execution_count": null,
      "outputs": [
        {
          "output_type": "stream",
          "name": "stdout",
          "text": [
            "Found One\n"
          ]
        }
      ]
    },
    {
      "cell_type": "markdown",
      "source": [
        "## 11. Program to check a number is even or odd\n"
      ],
      "metadata": {
        "id": "WG6KupkbovWM"
      }
    },
    {
      "cell_type": "markdown",
      "source": [
        "STEPS:\n",
        "- Read the input number as `num`\n",
        "- If num%2 is Zero then, print \"Even\"\n",
        "- Else, print \"Odd\""
      ],
      "metadata": {
        "id": "lHGgIUTgNsAn"
      }
    },
    {
      "cell_type": "code",
      "source": [
        "num = int(input(\"Enter the Number: \"))\n",
        "if num%2==0:\n",
        "    print(\"\\n\",num,\"is an Even Number\")\n",
        "else:\n",
        "    print(\"\\n\",num,\"is an Odd Number\")"
      ],
      "metadata": {
        "colab": {
          "base_uri": "https://localhost:8080/"
        },
        "id": "b_-2wp13o0Vo",
        "outputId": "28173fd9-7290-47c8-e58f-289473af46a5"
      },
      "execution_count": null,
      "outputs": [
        {
          "output_type": "stream",
          "name": "stdout",
          "text": [
            "Enter the Number: 4\n",
            "\n",
            " 4 is an Even Number\n"
          ]
        }
      ]
    }
  ]
}